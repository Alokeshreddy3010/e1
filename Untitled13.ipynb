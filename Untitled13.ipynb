{
  "nbformat": 4,
  "nbformat_minor": 0,
  "metadata": {
    "colab": {
      "provenance": [],
      "authorship_tag": "ABX9TyOLzL634uZDYJ+4Xyw2aPQT",
      "include_colab_link": true
    },
    "kernelspec": {
      "name": "python3",
      "display_name": "Python 3"
    },
    "language_info": {
      "name": "python"
    }
  },
  "cells": [
    {
      "cell_type": "markdown",
      "metadata": {
        "id": "view-in-github",
        "colab_type": "text"
      },
      "source": [
        "<a href=\"https://colab.research.google.com/github/Alokeshreddy3010/e1/blob/c1/Untitled13.ipynb\" target=\"_parent\"><img src=\"https://colab.research.google.com/assets/colab-badge.svg\" alt=\"Open In Colab\"/></a>"
      ]
    },
    {
      "cell_type": "code",
      "execution_count": null,
      "metadata": {
        "id": "37u_Ljoz3Dwn"
      },
      "outputs": [],
      "source": []
    },
    {
      "cell_type": "code",
      "source": [
        "import math\n",
        "a=1\n",
        "b=-3\n",
        "c=2\n",
        "d= (b*b)-(4*a*c)\n",
        "r1= ((-b)+ math.sqrt(d))/(2*a)\n",
        "r2= ((-b)- math.sqrt(d))/(2*a)\n",
        "print('roots are',r1,r2)\n"
      ],
      "metadata": {
        "id": "a_Q2Mtcp6EC5",
        "outputId": "0236e59c-5a9b-4703-9d38-b7b3ab55556f",
        "colab": {
          "base_uri": "https://localhost:8080/"
        }
      },
      "execution_count": 1,
      "outputs": [
        {
          "output_type": "stream",
          "name": "stdout",
          "text": [
            "roots are 2.0 1.0\n"
          ]
        }
      ]
    }
  ]
}
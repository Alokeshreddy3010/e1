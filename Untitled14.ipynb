{
  "nbformat": 4,
  "nbformat_minor": 0,
  "metadata": {
    "colab": {
      "provenance": [],
      "authorship_tag": "ABX9TyPpl5FvY0NPSMnDr5TLxVy7",
      "include_colab_link": true
    },
    "kernelspec": {
      "name": "python3",
      "display_name": "Python 3"
    },
    "language_info": {
      "name": "python"
    }
  },
  "cells": [
    {
      "cell_type": "markdown",
      "metadata": {
        "id": "view-in-github",
        "colab_type": "text"
      },
      "source": [
        "<a href=\"https://colab.research.google.com/github/Alokeshreddy3010/e1/blob/main/Untitled14.ipynb\" target=\"_parent\"><img src=\"https://colab.research.google.com/assets/colab-badge.svg\" alt=\"Open In Colab\"/></a>"
      ]
    },
    {
      "cell_type": "code",
      "execution_count": 5,
      "metadata": {
        "colab": {
          "base_uri": "https://localhost:8080/"
        },
        "id": "axVtSeTZ_QzB",
        "outputId": "e554bfbf-5d0e-411e-8426-aea8d56eb24a"
      },
      "outputs": [
        {
          "output_type": "stream",
          "name": "stdout",
          "text": [
            "enter a value 1\n",
            "enter b value 2\n",
            "enter c value 1\n",
            "The roots of the quadratic equation are: (-1.0, -1.0)\n"
          ]
        }
      ],
      "source": [
        "\n",
        "import math\n",
        "\n",
        "def solve_quadratic_equation(a, b, c):\n",
        "\n",
        "\n",
        "    delta = b**2 - 4*a*c\n",
        "\n",
        "    if delta >= 0:\n",
        "        x1 = (-b + math.sqrt(delta)) / (2*a)\n",
        "        x2 = (-b - math.sqrt(delta)) / (2*a)\n",
        "        return x1, x2\n",
        "    else:\n",
        "        return None\n",
        "\n",
        "\n",
        "a= int(input(\"enter a value \"))\n",
        "b= int(input(\"enter b value \"))\n",
        "c= int(input(\"enter c value \"))\n",
        "\n",
        "\n",
        "\n",
        "\n",
        "roots = solve_quadratic_equation(a, b, c)\n",
        "\n",
        "if roots:\n",
        "    print(\"The roots of the quadratic equation are:\", roots)\n",
        "else:\n",
        "    print(\"The quadratic equation has no real roots.\")"
      ]
    },
    {
      "cell_type": "code",
      "source": [
        "# prompt: incremental model software engineering example\n",
        "\n",
        "import math\n",
        "\n",
        "def solve_quadratic_equation(a, b, c):\n",
        "\n",
        "\n",
        "    delta = b**2 - 4*a*c\n",
        "\n",
        "    if delta >= 0:\n",
        "        x1 = (-b + math.sqrt(delta)) / (2*a)\n",
        "        x2 = (-b - math.sqrt(delta)) / (2*a)\n",
        "        return x1, x2\n",
        "    else:\n",
        "        return None\n",
        "\n",
        "\n",
        "a= int(input(\"enter a value \"))\n",
        "b= int(input(\"enter b value \"))\n",
        "c= int(input(\"enter c value \"))\n",
        "\n",
        "\n",
        "\n",
        "\n",
        "roots = solve_quadratic_equation(a, b, c)\n",
        "\n",
        "if isinstance(roots, tuple):\n",
        "    print(\"The roots of the quadratic equation are:\", roots)\n",
        "elif isinstance(roots, str):\n",
        "    print(roots)\n",
        "elif isinstance(roots, (int, float)):\n",
        "    print(\"The root of the linear equation is:\", roots)\n",
        "else:\n",
        "    print(\"The quadratic equation has no real roots.\")"
      ],
      "metadata": {
        "id": "4HJYvzc7C1GJ"
      },
      "execution_count": null,
      "outputs": []
    }
  ]
}